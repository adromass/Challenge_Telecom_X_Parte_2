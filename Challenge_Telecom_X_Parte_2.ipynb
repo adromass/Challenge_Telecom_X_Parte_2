{
 "cells": [
  {
   "cell_type": "markdown",
   "id": "5ea6d12f",
   "metadata": {},
   "source": [
    "# Preparacíon de los Datos"
   ]
  },
  {
   "cell_type": "markdown",
   "id": "e83205bf",
   "metadata": {},
   "source": [
    "## Extracción del Archivo Tratrado"
   ]
  },
  {
   "cell_type": "code",
   "execution_count": 3,
   "id": "94e0192a",
   "metadata": {},
   "outputs": [
    {
     "data": {
      "text/html": [
       "<div>\n",
       "<style scoped>\n",
       "    .dataframe tbody tr th:only-of-type {\n",
       "        vertical-align: middle;\n",
       "    }\n",
       "\n",
       "    .dataframe tbody tr th {\n",
       "        vertical-align: top;\n",
       "    }\n",
       "\n",
       "    .dataframe thead th {\n",
       "        text-align: right;\n",
       "    }\n",
       "</style>\n",
       "<table border=\"1\" class=\"dataframe\">\n",
       "  <thead>\n",
       "    <tr style=\"text-align: right;\">\n",
       "      <th></th>\n",
       "      <th>id_cliente</th>\n",
       "      <th>abandono</th>\n",
       "      <th>genero</th>\n",
       "      <th>ciudadano_senior</th>\n",
       "      <th>pareja</th>\n",
       "      <th>dependientes</th>\n",
       "      <th>antiguedad_meses</th>\n",
       "      <th>servicio_telefono</th>\n",
       "      <th>multiples_lineas</th>\n",
       "      <th>servicio_internet</th>\n",
       "      <th>...</th>\n",
       "      <th>proteccion_dispositivo</th>\n",
       "      <th>soporte_tecnico</th>\n",
       "      <th>streaming_tv</th>\n",
       "      <th>streaming_peliculas</th>\n",
       "      <th>contrato</th>\n",
       "      <th>factura_sin_papel</th>\n",
       "      <th>metodo_pago</th>\n",
       "      <th>cargo_mensual</th>\n",
       "      <th>cargo_total</th>\n",
       "      <th>cuentas_diarias</th>\n",
       "    </tr>\n",
       "  </thead>\n",
       "  <tbody>\n",
       "    <tr>\n",
       "      <th>1258</th>\n",
       "      <td>1862-QRWPE</td>\n",
       "      <td>0</td>\n",
       "      <td>0</td>\n",
       "      <td>0</td>\n",
       "      <td>1</td>\n",
       "      <td>1</td>\n",
       "      <td>48</td>\n",
       "      <td>1</td>\n",
       "      <td>0</td>\n",
       "      <td>0</td>\n",
       "      <td>...</td>\n",
       "      <td>0</td>\n",
       "      <td>0</td>\n",
       "      <td>0</td>\n",
       "      <td>0</td>\n",
       "      <td>Two year</td>\n",
       "      <td>0</td>\n",
       "      <td>Bank transfer (automatic)</td>\n",
       "      <td>20.65</td>\n",
       "      <td>1057.00</td>\n",
       "      <td>0.688333</td>\n",
       "    </tr>\n",
       "    <tr>\n",
       "      <th>6522</th>\n",
       "      <td>9253-VIFJQ</td>\n",
       "      <td>0</td>\n",
       "      <td>1</td>\n",
       "      <td>0</td>\n",
       "      <td>1</td>\n",
       "      <td>0</td>\n",
       "      <td>65</td>\n",
       "      <td>1</td>\n",
       "      <td>1</td>\n",
       "      <td>1</td>\n",
       "      <td>...</td>\n",
       "      <td>1</td>\n",
       "      <td>0</td>\n",
       "      <td>0</td>\n",
       "      <td>0</td>\n",
       "      <td>One year</td>\n",
       "      <td>0</td>\n",
       "      <td>Credit card (automatic)</td>\n",
       "      <td>67.05</td>\n",
       "      <td>4309.55</td>\n",
       "      <td>2.235000</td>\n",
       "    </tr>\n",
       "    <tr>\n",
       "      <th>386</th>\n",
       "      <td>0570-BFQHT</td>\n",
       "      <td>0</td>\n",
       "      <td>0</td>\n",
       "      <td>0</td>\n",
       "      <td>0</td>\n",
       "      <td>0</td>\n",
       "      <td>9</td>\n",
       "      <td>1</td>\n",
       "      <td>0</td>\n",
       "      <td>1</td>\n",
       "      <td>...</td>\n",
       "      <td>1</td>\n",
       "      <td>0</td>\n",
       "      <td>0</td>\n",
       "      <td>0</td>\n",
       "      <td>Month-to-month</td>\n",
       "      <td>0</td>\n",
       "      <td>Electronic check</td>\n",
       "      <td>80.55</td>\n",
       "      <td>653.90</td>\n",
       "      <td>2.685000</td>\n",
       "    </tr>\n",
       "  </tbody>\n",
       "</table>\n",
       "<p>3 rows × 24 columns</p>\n",
       "</div>"
      ],
      "text/plain": [
       "      id_cliente  abandono  genero  ciudadano_senior  pareja  dependientes  \\\n",
       "1258  1862-QRWPE         0       0                 0       1             1   \n",
       "6522  9253-VIFJQ         0       1                 0       1             0   \n",
       "386   0570-BFQHT         0       0                 0       0             0   \n",
       "\n",
       "      antiguedad_meses  servicio_telefono  multiples_lineas  \\\n",
       "1258                48                  1                 0   \n",
       "6522                65                  1                 1   \n",
       "386                  9                  1                 0   \n",
       "\n",
       "      servicio_internet  ...  proteccion_dispositivo  soporte_tecnico  \\\n",
       "1258                  0  ...                       0                0   \n",
       "6522                  1  ...                       1                0   \n",
       "386                   1  ...                       1                0   \n",
       "\n",
       "      streaming_tv  streaming_peliculas        contrato  factura_sin_papel  \\\n",
       "1258             0                    0        Two year                  0   \n",
       "6522             0                    0        One year                  0   \n",
       "386              0                    0  Month-to-month                  0   \n",
       "\n",
       "                    metodo_pago  cargo_mensual cargo_total  cuentas_diarias  \n",
       "1258  Bank transfer (automatic)          20.65     1057.00         0.688333  \n",
       "6522    Credit card (automatic)          67.05     4309.55         2.235000  \n",
       "386            Electronic check          80.55      653.90         2.685000  \n",
       "\n",
       "[3 rows x 24 columns]"
      ]
     },
     "execution_count": 3,
     "metadata": {},
     "output_type": "execute_result"
    }
   ],
   "source": [
    "import pandas as pd\n",
    "import numpy as np\n",
    "\n",
    "datos = pd.read_csv('https://raw.githubusercontent.com/adromass/Challenge_Telecom_X/refs/heads/main/Normalizado_Challenge_Telecom_X.csv')\n",
    "datos.sample(3)"
   ]
  },
  {
   "cell_type": "markdown",
   "id": "3b691728",
   "metadata": {},
   "source": [
    "## Eliminación de Columnas Irrelevantes"
   ]
  },
  {
   "cell_type": "code",
   "execution_count": 4,
   "id": "3e2855bb",
   "metadata": {},
   "outputs": [
    {
     "data": {
      "text/plain": [
       "Index(['abandono', 'genero', 'ciudadano_senior', 'pareja', 'dependientes',\n",
       "       'antiguedad_meses', 'servicio_telefono', 'multiples_lineas',\n",
       "       'servicio_internet', 'tiene_dsl', 'tiene_fibra_optica',\n",
       "       'seguridad_online', 'backup_online', 'proteccion_dispositivo',\n",
       "       'soporte_tecnico', 'streaming_tv', 'streaming_peliculas', 'contrato',\n",
       "       'factura_sin_papel', 'metodo_pago', 'cargo_mensual', 'cargo_total',\n",
       "       'cuentas_diarias'],\n",
       "      dtype='object')"
      ]
     },
     "execution_count": 4,
     "metadata": {},
     "output_type": "execute_result"
    }
   ],
   "source": [
    "datos.drop('id_cliente', axis=1, inplace=True)\n",
    "datos.columns\n"
   ]
  },
  {
   "cell_type": "markdown",
   "id": "5d48e0f1",
   "metadata": {},
   "source": [
    "## Encoding"
   ]
  },
  {
   "cell_type": "markdown",
   "id": "d293c93e",
   "metadata": {},
   "source": [
    "## Verificación de la Proporción de Cancelación (abandono)"
   ]
  },
  {
   "cell_type": "code",
   "execution_count": 9,
   "id": "3a43efa6",
   "metadata": {},
   "outputs": [
    {
     "data": {
      "text/plain": [
       "abandono\n",
       "0    73.46\n",
       "1    26.54\n",
       "Name: proportion, dtype: float64"
      ]
     },
     "execution_count": 9,
     "metadata": {},
     "output_type": "execute_result"
    }
   ],
   "source": [
    "datos.value_counts('abandono', normalize=True).round(4)*100"
   ]
  },
  {
   "cell_type": "markdown",
   "id": "2365b8f8",
   "metadata": {},
   "source": [
    "## Balanceo de Clases"
   ]
  },
  {
   "cell_type": "code",
   "execution_count": 12,
   "id": "d5aee044",
   "metadata": {},
   "outputs": [
    {
     "data": {
      "text/plain": [
       "np.float64(14.0)"
      ]
     },
     "execution_count": 12,
     "metadata": {},
     "output_type": "execute_result"
    }
   ],
   "source": [
    "k= 1 + (10/3) * np.log10(datos.shape[0])\n",
    "k.round()"
   ]
  },
  {
   "cell_type": "code",
   "execution_count": 26,
   "id": "a5bb56df",
   "metadata": {},
   "outputs": [
    {
     "data": {
      "text/plain": [
       "cargo_mensual\n",
       "(18.148999999999997, 25.429]    1511\n",
       "(68.5, 75.679]                   748\n",
       "(82.857, 90.036]                 666\n",
       "(90.036, 97.214]                 626\n",
       "(75.679, 82.857]                 614\n",
       "(97.214, 104.393]                525\n",
       "(54.143, 61.321]                 478\n",
       "(104.393, 111.571]               447\n",
       "(46.964, 54.143]                 372\n",
       "(39.786, 46.964]                 311\n",
       "(61.321, 68.5]                   282\n",
       "(25.429, 32.607]                 179\n",
       "(32.607, 39.786]                 143\n",
       "(111.571, 118.75]                141\n",
       "Name: count, dtype: int64"
      ]
     },
     "execution_count": 26,
     "metadata": {},
     "output_type": "execute_result"
    }
   ],
   "source": [
    "frecuencia = pd.Series(\n",
    "    pd.cut(\n",
    "    datos['cargo_mensual'], \n",
    "    bins=14, include_lowest=True)\n",
    "    ).value_counts()\n",
    "frecuencia"
   ]
  },
  {
   "cell_type": "code",
   "execution_count": 46,
   "id": "9471b0b4",
   "metadata": {},
   "outputs": [
    {
     "data": {
      "text/html": [
       "<div>\n",
       "<style scoped>\n",
       "    .dataframe tbody tr th:only-of-type {\n",
       "        vertical-align: middle;\n",
       "    }\n",
       "\n",
       "    .dataframe tbody tr th {\n",
       "        vertical-align: top;\n",
       "    }\n",
       "\n",
       "    .dataframe thead th {\n",
       "        text-align: right;\n",
       "    }\n",
       "</style>\n",
       "<table border=\"1\" class=\"dataframe\">\n",
       "  <thead>\n",
       "    <tr style=\"text-align: right;\">\n",
       "      <th></th>\n",
       "      <th>rango_cargo_mensual</th>\n",
       "      <th>cantidad</th>\n",
       "    </tr>\n",
       "  </thead>\n",
       "  <tbody>\n",
       "    <tr>\n",
       "      <th>0</th>\n",
       "      <td>(18.148999999999997, 25.429]</td>\n",
       "      <td>1511</td>\n",
       "    </tr>\n",
       "    <tr>\n",
       "      <th>1</th>\n",
       "      <td>(68.5, 75.679]</td>\n",
       "      <td>748</td>\n",
       "    </tr>\n",
       "    <tr>\n",
       "      <th>2</th>\n",
       "      <td>(82.857, 90.036]</td>\n",
       "      <td>666</td>\n",
       "    </tr>\n",
       "    <tr>\n",
       "      <th>3</th>\n",
       "      <td>(90.036, 97.214]</td>\n",
       "      <td>626</td>\n",
       "    </tr>\n",
       "    <tr>\n",
       "      <th>4</th>\n",
       "      <td>(75.679, 82.857]</td>\n",
       "      <td>614</td>\n",
       "    </tr>\n",
       "    <tr>\n",
       "      <th>5</th>\n",
       "      <td>(97.214, 104.393]</td>\n",
       "      <td>525</td>\n",
       "    </tr>\n",
       "    <tr>\n",
       "      <th>6</th>\n",
       "      <td>(54.143, 61.321]</td>\n",
       "      <td>478</td>\n",
       "    </tr>\n",
       "    <tr>\n",
       "      <th>7</th>\n",
       "      <td>(104.393, 111.571]</td>\n",
       "      <td>447</td>\n",
       "    </tr>\n",
       "    <tr>\n",
       "      <th>8</th>\n",
       "      <td>(46.964, 54.143]</td>\n",
       "      <td>372</td>\n",
       "    </tr>\n",
       "    <tr>\n",
       "      <th>9</th>\n",
       "      <td>(39.786, 46.964]</td>\n",
       "      <td>311</td>\n",
       "    </tr>\n",
       "    <tr>\n",
       "      <th>10</th>\n",
       "      <td>(61.321, 68.5]</td>\n",
       "      <td>282</td>\n",
       "    </tr>\n",
       "    <tr>\n",
       "      <th>11</th>\n",
       "      <td>(25.429, 32.607]</td>\n",
       "      <td>179</td>\n",
       "    </tr>\n",
       "    <tr>\n",
       "      <th>12</th>\n",
       "      <td>(32.607, 39.786]</td>\n",
       "      <td>143</td>\n",
       "    </tr>\n",
       "    <tr>\n",
       "      <th>13</th>\n",
       "      <td>(111.571, 118.75]</td>\n",
       "      <td>141</td>\n",
       "    </tr>\n",
       "  </tbody>\n",
       "</table>\n",
       "</div>"
      ],
      "text/plain": [
       "             rango_cargo_mensual  cantidad\n",
       "0   (18.148999999999997, 25.429]      1511\n",
       "1                 (68.5, 75.679]       748\n",
       "2               (82.857, 90.036]       666\n",
       "3               (90.036, 97.214]       626\n",
       "4               (75.679, 82.857]       614\n",
       "5              (97.214, 104.393]       525\n",
       "6               (54.143, 61.321]       478\n",
       "7             (104.393, 111.571]       447\n",
       "8               (46.964, 54.143]       372\n",
       "9               (39.786, 46.964]       311\n",
       "10                (61.321, 68.5]       282\n",
       "11              (25.429, 32.607]       179\n",
       "12              (32.607, 39.786]       143\n",
       "13             (111.571, 118.75]       141"
      ]
     },
     "execution_count": 46,
     "metadata": {},
     "output_type": "execute_result"
    }
   ],
   "source": [
    "df_frecuencia = frecuencia.reset_index()\n",
    "df_frecuencia.columns = ['rango_cargo_mensual', 'cantidad']\n",
    "df_frecuencia\n",
    "\n"
   ]
  },
  {
   "cell_type": "code",
   "execution_count": 50,
   "id": "584f01ec",
   "metadata": {},
   "outputs": [
    {
     "data": {
      "text/plain": [
       "<seaborn.axisgrid.FacetGrid at 0x1ff7a8ffb10>"
      ]
     },
     "execution_count": 50,
     "metadata": {},
     "output_type": "execute_result"
    },
    {
     "data": {
      "image/png": "[encoded data removed]",
      "text/plain": [
       "<Figure size 500x500 with 1 Axes>"
      ]
     },
     "metadata": {},
     "output_type": "display_data"
    }
   ],
   "source": [
    "import seaborn as sns\n",
    "\n",
    "ax = sns.displot(datos['cargo_mensual'],\n",
    "                 bins=14, \n",
    "                kde=True)\n",
    "ax"
   ]
  },
  {
   "cell_type": "code",
   "execution_count": 52,
   "id": "f3f018d0",
   "metadata": {},
   "outputs": [
    {
     "data": {
      "text/plain": [
       "abandono\n",
       "0    61.2651\n",
       "1    74.4413\n",
       "Name: cargo_mensual, dtype: float64"
      ]
     },
     "execution_count": 52,
     "metadata": {},
     "output_type": "execute_result"
    }
   ],
   "source": [
    "media_cargo_mensual = datos['cargo_mensual'].mean()\n",
    "mediana_cargo_mensual = datos['cargo_mensual'].median()\n",
    "datos.groupby(['abandono'])['cargo_mensual'].mean().round(4)\n"
   ]
  },
  {
   "cell_type": "code",
   "execution_count": null,
   "id": "3f3afd94",
   "metadata": {},
   "outputs": [],
   "source": []
  }
 ],
 "metadata": {
  "kernelspec": {
   "display_name": "Python 3",
   "language": "python",
   "name": "python3"
  },
  "language_info": {
   "codemirror_mode": {
    "name": "ipython",
    "version": 3
   },
   "file_extension": ".py",
   "mimetype": "text/x-python",
   "name": "python",
   "nbconvert_exporter": "python",
   "pygments_lexer": "ipython3",
   "version": "3.13.3"
  }
 },
 "nbformat": 4,
 "nbformat_minor": 5
}
